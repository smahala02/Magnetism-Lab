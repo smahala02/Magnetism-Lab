{
 "cells": [
  {
   "cell_type": "markdown",
   "metadata": {},
   "source": [
    "## DSO signal analysis"
   ]
  },
  {
   "cell_type": "code",
   "execution_count": 21,
   "metadata": {
    "jupyter": {
     "outputs_hidden": false
    }
   },
   "outputs": [],
   "source": [
    "from __future__ import division\n",
    "import numpy as np\n",
    "import matplotlib.pyplot as plt\n",
    "%matplotlib inline\n"
   ]
  },
  {
   "cell_type": "markdown",
   "metadata": {},
   "source": [
    "Assign the filename and read the data in:"
   ]
  },
  {
   "cell_type": "code",
   "execution_count": 22,
   "metadata": {
    "jupyter": {
     "outputs_hidden": false
    }
   },
   "outputs": [],
   "source": [
    "filename='TOR3_20.CSV'\n",
    "data=np.loadtxt(filename,delimiter=',',skiprows=15)"
   ]
  },
  {
   "cell_type": "markdown",
   "metadata": {},
   "source": [
    "Define frequency:"
   ]
  },
  {
   "cell_type": "code",
   "execution_count": 23,
   "metadata": {},
   "outputs": [],
   "source": [
    "f=100000"
   ]
  },
  {
   "cell_type": "markdown",
   "metadata": {},
   "source": [
    "Read timebase from file:"
   ]
  },
  {
   "cell_type": "code",
   "execution_count": 24,
   "metadata": {
    "jupyter": {
     "outputs_hidden": false
    },
    "scrolled": true
   },
   "outputs": [],
   "source": [
    "import re\n",
    "text = open(filename).read()\n",
    "line9=re.search('Horizontal Scale,(\\d\\.\\d+)',text)\n",
    "hScale=line9.groups()[0]\n",
    "timebase=float(hScale)*1e-3"
   ]
  },
  {
   "cell_type": "markdown",
   "metadata": {},
   "source": [
    "Create time, $V_{L}$ and $V_{R}$ ($V_{L}$ is the difference between the first and second columns):"
   ]
  },
  {
   "cell_type": "code",
   "execution_count": 25,
   "metadata": {
    "jupyter": {
     "outputs_hidden": false
    }
   },
   "outputs": [],
   "source": [
    "points=data[:,0]\n",
    "time=(points-1)*timebase*1000/50\n",
    "Vl=data[:,1]-data[:,2]\n",
    "Vr=data[:,2]"
   ]
  },
  {
   "cell_type": "markdown",
   "metadata": {},
   "source": [
    "Experimental data:"
   ]
  },
  {
   "cell_type": "code",
   "execution_count": 26,
   "metadata": {
    "jupyter": {
     "outputs_hidden": false
    },
    "scrolled": true
   },
   "outputs": [
    {
     "data": {
      "text/plain": [
       "Text(0, 0.5, 'Voltage')"
      ]
     },
     "execution_count": 26,
     "metadata": {},
     "output_type": "execute_result"
    },
    {
     "data": {
      "image/png": "[encoded data removed]",
      "text/plain": [
       "<Figure size 432x288 with 1 Axes>"
      ]
     },
     "metadata": {
      "needs_background": "light"
     },
     "output_type": "display_data"
    }
   ],
   "source": [
    "plt.plot(time, Vl,'bo',time,Vr,'ro');\n",
    "plt.xlabel('Time (ms)')\n",
    "plt.ylabel('Voltage')"
   ]
  },
  {
   "cell_type": "markdown",
   "metadata": {},
   "source": [
    "### Data fitting:"
   ]
  },
  {
   "cell_type": "markdown",
   "metadata": {},
   "source": [
    "Fitting data to:\n",
    "\n",
    "V = $C + A \\sin(2 \\pi f t +\\phi )$"
   ]
  },
  {
   "cell_type": "markdown",
   "metadata": {},
   "source": [
    "Define function to fit."
   ]
  },
  {
   "cell_type": "code",
   "execution_count": 27,
   "metadata": {
    "jupyter": {
     "outputs_hidden": false
    }
   },
   "outputs": [],
   "source": [
    "def voltage(ft,c,A,phi):\n",
    "    return c+A*np.sin(2*np.pi*ft/1e3+phi)"
   ]
  },
  {
   "cell_type": "markdown",
   "metadata": {},
   "source": [
    "Define fitting function:"
   ]
  },
  {
   "cell_type": "code",
   "execution_count": 28,
   "metadata": {
    "jupyter": {
     "outputs_hidden": false
    }
   },
   "outputs": [],
   "source": [
    "def fitVoltage(voltage,Vdata,f,time):\n",
    "    Aguess=Vdata.max()\n",
    "    from scipy.optimize import curve_fit\n",
    "    fitpars1, cov=curve_fit(voltage,f*time,Vdata,p0=[0,Aguess,0]) #p0 is the starting guess [offset, A, phi]\n",
    "    if fitpars1[1]<0:\n",
    "        C=fitpars1[0]\n",
    "        A=-fitpars1[1]\n",
    "        if fitpars1[2]<0:\n",
    "            phi=fitpars1[2]+np.pi\n",
    "        else:\n",
    "            phi=fitpars1[2]-np.pi    \n",
    "    else:\n",
    "        C=fitpars1[0]\n",
    "        A=fitpars1[1]\n",
    "        phi=fitpars1[2]\n",
    "    \n",
    "    #print('Offset = '+ str(C) + '\\nAmplitude = '+str(A)+'\\nPhase = '+str(phi))\n",
    "    return [C,A,phi]"
   ]
  },
  {
   "cell_type": "markdown",
   "metadata": {},
   "source": [
    "Fit for $V_{L}$:"
   ]
  },
  {
   "cell_type": "code",
   "execution_count": 29,
   "metadata": {
    "jupyter": {
     "outputs_hidden": false
    }
   },
   "outputs": [
    {
     "name": "stdout",
     "output_type": "stream",
     "text": [
      "VlOffset = -0.11059999568102968\n",
      "VlAmplitude = 5.291273041256614\n",
      "VlPhase = -3.027527296312056\n"
     ]
    }
   ],
   "source": [
    "VlOffset,VlAmplitude,VlPhase=fitVoltage(voltage,Vl,f,time)\n",
    "print('VlOffset = '+ str(VlOffset) + '\\nVlAmplitude = '+str(VlAmplitude)+'\\nVlPhase = '+str(VlPhase))"
   ]
  },
  {
   "cell_type": "markdown",
   "metadata": {},
   "source": [
    "Fit for $V_{R}$:"
   ]
  },
  {
   "cell_type": "code",
   "execution_count": 30,
   "metadata": {
    "jupyter": {
     "outputs_hidden": false
    }
   },
   "outputs": [
    {
     "name": "stdout",
     "output_type": "stream",
     "text": [
      "VrOffset = -0.01671428569902645\n",
      "VrAmplitude = 0.36527886491908906\n",
      "VrPhase = 1.8860803458716406\n"
     ]
    }
   ],
   "source": [
    "VrOffset,VrAmplitude,VrPhase=fitVoltage(voltage,Vr,f,time)\n",
    "print('VrOffset = '+ str(VrOffset) + '\\nVrAmplitude = '+str(VrAmplitude)+'\\nVrPhase = '+str(VrPhase))"
   ]
  },
  {
   "cell_type": "markdown",
   "metadata": {},
   "source": [
    "### Plotting the fits:"
   ]
  },
  {
   "cell_type": "code",
   "execution_count": 31,
   "metadata": {
    "jupyter": {
     "outputs_hidden": false
    }
   },
   "outputs": [
    {
     "data": {
      "image/png": "[encoded data removed]",
      "text/plain": [
       "<Figure size 432x288 with 1 Axes>"
      ]
     },
     "metadata": {
      "needs_background": "light"
     },
     "output_type": "display_data"
    }
   ],
   "source": [
    "VlFit=voltage(f*time,VlOffset,VlAmplitude,VlPhase)\n",
    "VrFit=voltage(f*time,VrOffset,VrAmplitude,VrPhase)\n",
    "# only plotting every 15 points so the fit can be seen more clearly\n",
    "plt.plot(time[::15], Vl[::15],'or',time, VlFit ,'r-')\n",
    "plt.plot(time[::15], Vr[::15],'ob',time, VrFit ,'b-')\n",
    "plt.xlabel('Time (ms)')\n",
    "plt.ylabel('Voltage')\n",
    "plt.legend(('$V_{L}$','$V_{L} fit$','$V_{R}$','$V_{R} fit$'), loc=0);"
   ]
  },
  {
   "cell_type": "code",
   "execution_count": null,
   "metadata": {
    "jupyter": {
     "outputs_hidden": true
    }
   },
   "outputs": [],
   "source": []
  },
  {
   "cell_type": "markdown",
   "metadata": {},
   "source": [
    "## Calculating impedance (z), inductance (L) and tan $\\delta$\n",
    "Now we use the values from the fit to calulate the impedance, inductance and tan delta. These are given by:\n",
    "\n",
    "$z=V_{L}/I_{L}$ where $I_{L}=\\frac{V_{r}}{R}$ , where R is the resistance of the sense resistor in $\\Omega$ \n",
    "\n",
    "$L=\\frac{z}{2\\pi f}$ \n",
    "\n",
    "and \n",
    "\n",
    "$\\tan \\delta=\\tan (\\phi_{c}-\\phi_{r} + \\frac{\\pi}{2})$"
   ]
  },
  {
   "cell_type": "code",
   "execution_count": 32,
   "metadata": {
    "jupyter": {
     "outputs_hidden": false
    }
   },
   "outputs": [],
   "source": [
    "def impedance(Vl,Vr,R):\n",
    "    I=Vr/R\n",
    "    z=Vl/I\n",
    "    print('Current=' + str(I)+'A')\n",
    "    return z"
   ]
  },
  {
   "cell_type": "code",
   "execution_count": 33,
   "metadata": {
    "jupyter": {
     "outputs_hidden": true
    }
   },
   "outputs": [],
   "source": [
    "def inductance(f,z):\n",
    "    L=z/(2*np.pi*f)\n",
    "    return L"
   ]
  },
  {
   "cell_type": "code",
   "execution_count": 34,
   "metadata": {
    "jupyter": {
     "outputs_hidden": true
    }
   },
   "outputs": [],
   "source": [
    "def phase_angle_deg(phil,phiR):\n",
    "    phi_deg=(phil-phiR)*180/np.pi\n",
    "    return phi_deg"
   ]
  },
  {
   "cell_type": "code",
   "execution_count": 35,
   "metadata": {
    "jupyter": {
     "outputs_hidden": true
    }
   },
   "outputs": [],
   "source": [
    "def tanDelta(phil,phiR):\n",
    "    tanD=np.tan(phil-phiR+np.pi/2)\n",
    "    return tanD"
   ]
  },
  {
   "cell_type": "markdown",
   "metadata": {},
   "source": [
    "Now we can calculate them:"
   ]
  },
  {
   "cell_type": "code",
   "execution_count": 36,
   "metadata": {
    "jupyter": {
     "outputs_hidden": false
    }
   },
   "outputs": [
    {
     "name": "stdout",
     "output_type": "stream",
     "text": [
      "Current=0.007305577298381782A\n",
      "Impedance= 724.2785648751748 Ohm\n",
      "phi = -281.5289800803534 °\n",
      "Inductance = 0.0011527251377538808 H\n",
      "tan delta= -0.20397908790511501\n"
     ]
    }
   ],
   "source": [
    "R=50 #sense resitor 50 Ohm\n",
    "Z=impedance(VlAmplitude,VrAmplitude,R)\n",
    "L=inductance(f,Z)\n",
    "phi_deg=phase_angle_deg(VlPhase,VrPhase)\n",
    "tanD=tanDelta(VlPhase,VrPhase)\n",
    "print('Impedance= '+ str(Z) +' Ohm'+\n",
    "      '\\nphi = ' +str(phi_deg) + ' °'+\n",
    "      '\\nInductance = ' + str(L) + ' H'+\n",
    "      '\\ntan delta= '+str(tanD))"
   ]
  },
  {
   "cell_type": "code",
   "execution_count": 37,
   "metadata": {
    "jupyter": {
     "outputs_hidden": false
    },
    "scrolled": true
   },
   "outputs": [
    {
     "name": "stdout",
     "output_type": "stream",
     "text": [
      "Current=0.036527886491908905A\n",
      "Impedance= 144.85571297503498 Ohm\n",
      "phi = -281.5289800803534 °\n",
      "Inductance = 0.0002305450275507762 H\n",
      "tan delta= -0.20397908790511501\n"
     ]
    }
   ],
   "source": [
    "R=10 #sense resitor 10 Ohm\n",
    "Z=impedance(VlAmplitude,VrAmplitude,R)\n",
    "L=inductance(f,Z)\n",
    "phi_deg=phase_angle_deg(VlPhase,VrPhase)\n",
    "tanD=tanDelta(VlPhase,VrPhase)\n",
    "print('Impedance= '+ str(Z) +' Ohm'+\n",
    "      '\\nphi = ' +str(phi_deg) + ' °'+\n",
    "      '\\nInductance = ' + str(L) + ' H'+\n",
    "      '\\ntan delta= '+str(tanD))"
   ]
  }
 ],
 "metadata": {
  "kernelspec": {
   "display_name": "Python 3",
   "language": "python",
   "name": "python3"
  },
  "language_info": {
   "codemirror_mode": {
    "name": "ipython",
    "version": 3
   },
   "file_extension": ".py",
   "mimetype": "text/x-python",
   "name": "python",
   "nbconvert_exporter": "python",
   "pygments_lexer": "ipython3",
   "version": "3.7.6"
  }
 },
 "nbformat": 4,
 "nbformat_minor": 4
}
